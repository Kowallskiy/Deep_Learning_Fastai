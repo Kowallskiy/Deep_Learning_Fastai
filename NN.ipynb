{
  "nbformat": 4,
  "nbformat_minor": 0,
  "metadata": {
    "colab": {
      "provenance": []
    },
    "kernelspec": {
      "name": "python3",
      "display_name": "Python 3"
    },
    "language_info": {
      "name": "python"
    }
  },
  "cells": [
    {
      "cell_type": "code",
      "execution_count": null,
      "metadata": {
        "colab": {
          "base_uri": "https://localhost:8080/"
        },
        "id": "f16Ht--TkvBg",
        "outputId": "55ba8266-8485-4f5d-94d2-60027b43fda2"
      },
      "outputs": [
        {
          "output_type": "stream",
          "name": "stdout",
          "text": [
            "\u001b[2K     \u001b[90m━━━━━━━━━━━━━━━━━━━━━━━━━━━━━━━━━━━━━━━\u001b[0m \u001b[32m719.8/719.8 kB\u001b[0m \u001b[31m7.6 MB/s\u001b[0m eta \u001b[36m0:00:00\u001b[0m\n",
            "\u001b[2K     \u001b[90m━━━━━━━━━━━━━━━━━━━━━━━━━━━━━━━━━━━━━━━━\u001b[0m \u001b[32m7.6/7.6 MB\u001b[0m \u001b[31m36.1 MB/s\u001b[0m eta \u001b[36m0:00:00\u001b[0m\n",
            "\u001b[2K     \u001b[90m━━━━━━━━━━━━━━━━━━━━━━━━━━━━━━━━━━━━━━\u001b[0m \u001b[32m519.6/519.6 kB\u001b[0m \u001b[31m32.2 MB/s\u001b[0m eta \u001b[36m0:00:00\u001b[0m\n",
            "\u001b[2K     \u001b[90m━━━━━━━━━━━━━━━━━━━━━━━━━━━━━━━━━━━━━━━━\u001b[0m \u001b[32m1.3/1.3 MB\u001b[0m \u001b[31m42.3 MB/s\u001b[0m eta \u001b[36m0:00:00\u001b[0m\n",
            "\u001b[2K     \u001b[90m━━━━━━━━━━━━━━━━━━━━━━━━━━━━━━━━━━━━━━\u001b[0m \u001b[32m115.3/115.3 kB\u001b[0m \u001b[31m11.3 MB/s\u001b[0m eta \u001b[36m0:00:00\u001b[0m\n",
            "\u001b[2K     \u001b[90m━━━━━━━━━━━━━━━━━━━━━━━━━━━━━━━━━━━━━━\u001b[0m \u001b[32m194.1/194.1 kB\u001b[0m \u001b[31m16.3 MB/s\u001b[0m eta \u001b[36m0:00:00\u001b[0m\n",
            "\u001b[2K     \u001b[90m━━━━━━━━━━━━━━━━━━━━━━━━━━━━━━━━━━━━━━\u001b[0m \u001b[32m134.8/134.8 kB\u001b[0m \u001b[31m12.7 MB/s\u001b[0m eta \u001b[36m0:00:00\u001b[0m\n",
            "\u001b[2K     \u001b[90m━━━━━━━━━━━━━━━━━━━━━━━━━━━━━━━━━━━━━━\u001b[0m \u001b[32m294.8/294.8 kB\u001b[0m \u001b[31m27.4 MB/s\u001b[0m eta \u001b[36m0:00:00\u001b[0m\n",
            "\u001b[2K     \u001b[90m━━━━━━━━━━━━━━━━━━━━━━━━━━━━━━━━━━━━━━━━\u001b[0m \u001b[32m7.8/7.8 MB\u001b[0m \u001b[31m78.8 MB/s\u001b[0m eta \u001b[36m0:00:00\u001b[0m\n",
            "\u001b[2K     \u001b[90m━━━━━━━━━━━━━━━━━━━━━━━━━━━━━━━━━━━━━━━━\u001b[0m \u001b[32m1.3/1.3 MB\u001b[0m \u001b[31m62.3 MB/s\u001b[0m eta \u001b[36m0:00:00\u001b[0m\n",
            "\u001b[2K     \u001b[90m━━━━━━━━━━━━━━━━━━━━━━━━━━━━━━━━━━━━━━━━\u001b[0m \u001b[32m1.6/1.6 MB\u001b[0m \u001b[31m62.1 MB/s\u001b[0m eta \u001b[36m0:00:00\u001b[0m\n",
            "\u001b[?25hMounted at /content/gdrive\n"
          ]
        }
      ],
      "source": [
        "! [ -e /content ] && pip install -Uqq fastbook\n",
        "import fastbook\n",
        "fastbook.setup_book()"
      ]
    },
    {
      "cell_type": "code",
      "source": [
        "from fastai.vision.all import *\n",
        "from fastbook import *\n",
        "\n",
        "matplotlib.rc('image', cmap='Greys')"
      ],
      "metadata": {
        "id": "l1xM2qODkzwN"
      },
      "execution_count": null,
      "outputs": []
    },
    {
      "cell_type": "code",
      "source": [
        "path = untar_data(URLs.MNIST_SAMPLE)"
      ],
      "metadata": {
        "colab": {
          "base_uri": "https://localhost:8080/",
          "height": 37
        },
        "id": "d1M5KIExmMdF",
        "outputId": "e17e3ca4-7a7f-4356-9270-8390d1dee1b5"
      },
      "execution_count": null,
      "outputs": [
        {
          "output_type": "display_data",
          "data": {
            "text/plain": [
              "<IPython.core.display.HTML object>"
            ],
            "text/html": [
              "\n",
              "<style>\n",
              "    /* Turns off some styling */\n",
              "    progress {\n",
              "        /* gets rid of default border in Firefox and Opera. */\n",
              "        border: none;\n",
              "        /* Needs to be in here for Safari polyfill so background images work as expected. */\n",
              "        background-size: auto;\n",
              "    }\n",
              "    progress:not([value]), progress:not([value])::-webkit-progress-bar {\n",
              "        background: repeating-linear-gradient(45deg, #7e7e7e, #7e7e7e 10px, #5c5c5c 10px, #5c5c5c 20px);\n",
              "    }\n",
              "    .progress-bar-interrupted, .progress-bar-interrupted::-webkit-progress-bar {\n",
              "        background: #F44336;\n",
              "    }\n",
              "</style>\n"
            ]
          },
          "metadata": {}
        },
        {
          "output_type": "display_data",
          "data": {
            "text/plain": [
              "<IPython.core.display.HTML object>"
            ],
            "text/html": [
              "\n",
              "    <div>\n",
              "      <progress value='3219456' class='' max='3214948' style='width:300px; height:20px; vertical-align: middle;'></progress>\n",
              "      100.14% [3219456/3214948 00:00&lt;00:00]\n",
              "    </div>\n",
              "    "
            ]
          },
          "metadata": {}
        }
      ]
    },
    {
      "cell_type": "code",
      "source": [
        "Path.BASE_PATH = path"
      ],
      "metadata": {
        "id": "MzE8cLaqmXpb"
      },
      "execution_count": null,
      "outputs": []
    },
    {
      "cell_type": "markdown",
      "source": [
        "List what we have in the path"
      ],
      "metadata": {
        "id": "O11wYjoZjyQI"
      }
    },
    {
      "cell_type": "code",
      "source": [
        "path.ls()"
      ],
      "metadata": {
        "colab": {
          "base_uri": "https://localhost:8080/"
        },
        "id": "4iLP5wSdmeCR",
        "outputId": "8835cd5d-08d5-42a6-f6e8-8cd8d7a833da"
      },
      "execution_count": null,
      "outputs": [
        {
          "output_type": "execute_result",
          "data": {
            "text/plain": [
              "(#3) [Path('train'),Path('valid'),Path('labels.csv')]"
            ]
          },
          "metadata": {},
          "execution_count": 5
        }
      ]
    },
    {
      "cell_type": "markdown",
      "source": [
        "Extract threes and sevens for the model prediction"
      ],
      "metadata": {
        "id": "7zCvAYpFj7uu"
      }
    },
    {
      "cell_type": "code",
      "source": [
        "threes = (path/'train'/'3').ls().sorted()\n",
        "sevenths = (path/'train'/'7').ls().sorted()\n",
        "threes"
      ],
      "metadata": {
        "colab": {
          "base_uri": "https://localhost:8080/"
        },
        "id": "nchNV8u5mm3c",
        "outputId": "4cca42a5-575d-41ce-8eff-a249852bead6"
      },
      "execution_count": null,
      "outputs": [
        {
          "output_type": "execute_result",
          "data": {
            "text/plain": [
              "(#6131) [Path('train/3/10.png'),Path('train/3/10000.png'),Path('train/3/10011.png'),Path('train/3/10031.png'),Path('train/3/10034.png'),Path('train/3/10042.png'),Path('train/3/10052.png'),Path('train/3/1007.png'),Path('train/3/10074.png'),Path('train/3/10091.png')...]"
            ]
          },
          "metadata": {},
          "execution_count": 6
        }
      ]
    },
    {
      "cell_type": "markdown",
      "source": [
        "Illustrate one image to see what we work with"
      ],
      "metadata": {
        "id": "a8UfKicpkDVg"
      }
    },
    {
      "cell_type": "code",
      "source": [
        "im3_path = threes[1]\n",
        "image = Image.open(im3_path)\n",
        "image"
      ],
      "metadata": {
        "colab": {
          "base_uri": "https://localhost:8080/",
          "height": 45
        },
        "id": "5WArN5aAm_4l",
        "outputId": "81978725-876e-4a0a-f6d5-ca623d437553"
      },
      "execution_count": null,
      "outputs": [
        {
          "output_type": "execute_result",
          "data": {
            "text/plain": [
              "<PIL.PngImagePlugin.PngImageFile image mode=L size=28x28>"
            ],
            "image/png": "[encoded data removed]"
          },
          "metadata": {},
          "execution_count": 7
        }
      ]
    },
    {
      "cell_type": "markdown",
      "source": [
        "An array representation of the image"
      ],
      "metadata": {
        "id": "9_GT4VZnkIlm"
      }
    },
    {
      "cell_type": "code",
      "source": [
        "array(image)[4:10, 4:10]"
      ],
      "metadata": {
        "colab": {
          "base_uri": "https://localhost:8080/"
        },
        "id": "jDnqNjWCnpqB",
        "outputId": "4efe4a84-ba8a-494d-f152-b4c80aafb1c0"
      },
      "execution_count": null,
      "outputs": [
        {
          "output_type": "execute_result",
          "data": {
            "text/plain": [
              "array([[  0,   0,   0,   0,   0,   0],\n",
              "       [  0,   0,   0,   0,   0,  29],\n",
              "       [  0,   0,   0,  48, 166, 224],\n",
              "       [  0,  93, 244, 249, 253, 187],\n",
              "       [  0, 107, 253, 253, 230,  48],\n",
              "       [  0,   3,  20,  20,  15,   0]], dtype=uint8)"
            ]
          },
          "metadata": {},
          "execution_count": 8
        }
      ]
    },
    {
      "cell_type": "markdown",
      "source": [
        "The same representation, but using tensor instead of numpy. I will use tensor, because it allows to use GPU unlike Numpy"
      ],
      "metadata": {
        "id": "TBjzAZoIkMR5"
      }
    },
    {
      "cell_type": "code",
      "source": [
        "tensor(image)[4:10, 4:10]"
      ],
      "metadata": {
        "colab": {
          "base_uri": "https://localhost:8080/"
        },
        "id": "skS0PHWVn7Ea",
        "outputId": "56dc4b2a-f51f-4fbc-d2ae-412cf0dbe336"
      },
      "execution_count": null,
      "outputs": [
        {
          "output_type": "execute_result",
          "data": {
            "text/plain": [
              "tensor([[  0,   0,   0,   0,   0,   0],\n",
              "        [  0,   0,   0,   0,   0,  29],\n",
              "        [  0,   0,   0,  48, 166, 224],\n",
              "        [  0,  93, 244, 249, 253, 187],\n",
              "        [  0, 107, 253, 253, 230,  48],\n",
              "        [  0,   3,  20,  20,  15,   0]], dtype=torch.uint8)"
            ]
          },
          "metadata": {},
          "execution_count": 9
        }
      ]
    },
    {
      "cell_type": "code",
      "source": [
        "image_t = tensor(image)\n",
        "df = pd.DataFrame(image_t[4:15, 4:22])\n",
        "df.style.set_properties(**{'font-size':'6pt'}).background_gradient('Greys')"
      ],
      "metadata": {
        "colab": {
          "base_uri": "https://localhost:8080/",
          "height": 394
        },
        "id": "VwKiPhSjoGkD",
        "outputId": "b55cd6a5-4634-4747-a2cd-74aadd045849"
      },
      "execution_count": null,
      "outputs": [
        {
          "output_type": "execute_result",
          "data": {
            "text/plain": [
              "<pandas.io.formats.style.Styler at 0x7a172f987340>"
            ],
            "text/html": [
              "<style type=\"text/css\">\n",
              "#T_66acb_row0_col0, #T_66acb_row0_col1, #T_66acb_row0_col2, #T_66acb_row0_col3, #T_66acb_row0_col4, #T_66acb_row0_col5, #T_66acb_row0_col6, #T_66acb_row0_col7, #T_66acb_row0_col8, #T_66acb_row0_col9, #T_66acb_row0_col10, #T_66acb_row0_col11, #T_66acb_row0_col12, #T_66acb_row0_col13, #T_66acb_row0_col14, #T_66acb_row0_col15, #T_66acb_row0_col16, #T_66acb_row0_col17, #T_66acb_row1_col0, #T_66acb_row1_col1, #T_66acb_row1_col2, #T_66acb_row1_col3, #T_66acb_row1_col4, #T_66acb_row1_col15, #T_66acb_row1_col16, #T_66acb_row1_col17, #T_66acb_row2_col0, #T_66acb_row2_col1, #T_66acb_row2_col2, #T_66acb_row2_col15, #T_66acb_row2_col16, #T_66acb_row2_col17, #T_66acb_row3_col0, #T_66acb_row3_col15, #T_66acb_row3_col16, #T_66acb_row3_col17, #T_66acb_row4_col0, #T_66acb_row4_col6, #T_66acb_row4_col7, #T_66acb_row4_col8, #T_66acb_row4_col9, #T_66acb_row4_col10, #T_66acb_row4_col15, #T_66acb_row4_col16, #T_66acb_row4_col17, #T_66acb_row5_col0, #T_66acb_row5_col5, #T_66acb_row5_col6, #T_66acb_row5_col7, #T_66acb_row5_col8, #T_66acb_row5_col9, #T_66acb_row5_col15, #T_66acb_row5_col16, #T_66acb_row5_col17, #T_66acb_row6_col0, #T_66acb_row6_col1, #T_66acb_row6_col2, #T_66acb_row6_col3, #T_66acb_row6_col4, #T_66acb_row6_col5, #T_66acb_row6_col6, #T_66acb_row6_col7, #T_66acb_row6_col8, #T_66acb_row6_col9, #T_66acb_row6_col14, #T_66acb_row6_col15, #T_66acb_row6_col16, #T_66acb_row6_col17, #T_66acb_row7_col0, #T_66acb_row7_col1, #T_66acb_row7_col2, #T_66acb_row7_col3, #T_66acb_row7_col4, #T_66acb_row7_col5, #T_66acb_row7_col6, #T_66acb_row7_col13, #T_66acb_row7_col14, #T_66acb_row7_col15, #T_66acb_row7_col16, #T_66acb_row7_col17, #T_66acb_row8_col0, #T_66acb_row8_col1, #T_66acb_row8_col2, #T_66acb_row8_col3, #T_66acb_row8_col4, #T_66acb_row8_col13, #T_66acb_row8_col14, #T_66acb_row8_col15, #T_66acb_row8_col16, #T_66acb_row8_col17, #T_66acb_row9_col0, #T_66acb_row9_col1, #T_66acb_row9_col2, #T_66acb_row9_col3, #T_66acb_row9_col4, #T_66acb_row9_col16, #T_66acb_row9_col17, #T_66acb_row10_col0, #T_66acb_row10_col1, #T_66acb_row10_col2, #T_66acb_row10_col3, #T_66acb_row10_col4, #T_66acb_row10_col5, #T_66acb_row10_col6, #T_66acb_row10_col17 {\n",
              "  font-size: 6pt;\n",
              "  background-color: #ffffff;\n",
              "  color: #000000;\n",
              "}\n",
              "#T_66acb_row1_col5 {\n",
              "  font-size: 6pt;\n",
              "  background-color: #efefef;\n",
              "  color: #000000;\n",
              "}\n",
              "#T_66acb_row1_col6, #T_66acb_row1_col13 {\n",
              "  font-size: 6pt;\n",
              "  background-color: #7c7c7c;\n",
              "  color: #f1f1f1;\n",
              "}\n",
              "#T_66acb_row1_col7 {\n",
              "  font-size: 6pt;\n",
              "  background-color: #4a4a4a;\n",
              "  color: #f1f1f1;\n",
              "}\n",
              "#T_66acb_row1_col8, #T_66acb_row1_col9, #T_66acb_row1_col10, #T_66acb_row2_col5, #T_66acb_row2_col6, #T_66acb_row2_col7, #T_66acb_row2_col11, #T_66acb_row2_col12, #T_66acb_row2_col13, #T_66acb_row3_col4, #T_66acb_row3_col12, #T_66acb_row3_col13, #T_66acb_row4_col1, #T_66acb_row4_col2, #T_66acb_row4_col3, #T_66acb_row4_col12, #T_66acb_row4_col13, #T_66acb_row5_col12, #T_66acb_row6_col11, #T_66acb_row9_col11, #T_66acb_row10_col11, #T_66acb_row10_col12, #T_66acb_row10_col13, #T_66acb_row10_col14, #T_66acb_row10_col15, #T_66acb_row10_col16 {\n",
              "  font-size: 6pt;\n",
              "  background-color: #000000;\n",
              "  color: #f1f1f1;\n",
              "}\n",
              "#T_66acb_row1_col11 {\n",
              "  font-size: 6pt;\n",
              "  background-color: #606060;\n",
              "  color: #f1f1f1;\n",
              "}\n",
              "#T_66acb_row1_col12 {\n",
              "  font-size: 6pt;\n",
              "  background-color: #4d4d4d;\n",
              "  color: #f1f1f1;\n",
              "}\n",
              "#T_66acb_row1_col14 {\n",
              "  font-size: 6pt;\n",
              "  background-color: #bbbbbb;\n",
              "  color: #000000;\n",
              "}\n",
              "#T_66acb_row2_col3 {\n",
              "  font-size: 6pt;\n",
              "  background-color: #e4e4e4;\n",
              "  color: #000000;\n",
              "}\n",
              "#T_66acb_row2_col4, #T_66acb_row8_col6 {\n",
              "  font-size: 6pt;\n",
              "  background-color: #6b6b6b;\n",
              "  color: #f1f1f1;\n",
              "}\n",
              "#T_66acb_row2_col8, #T_66acb_row2_col14, #T_66acb_row3_col14 {\n",
              "  font-size: 6pt;\n",
              "  background-color: #171717;\n",
              "  color: #f1f1f1;\n",
              "}\n",
              "#T_66acb_row2_col9, #T_66acb_row3_col11 {\n",
              "  font-size: 6pt;\n",
              "  background-color: #4b4b4b;\n",
              "  color: #f1f1f1;\n",
              "}\n",
              "#T_66acb_row2_col10, #T_66acb_row7_col10, #T_66acb_row8_col8, #T_66acb_row8_col10, #T_66acb_row9_col8, #T_66acb_row9_col10 {\n",
              "  font-size: 6pt;\n",
              "  background-color: #010101;\n",
              "  color: #f1f1f1;\n",
              "}\n",
              "#T_66acb_row3_col1 {\n",
              "  font-size: 6pt;\n",
              "  background-color: #272727;\n",
              "  color: #f1f1f1;\n",
              "}\n",
              "#T_66acb_row3_col2 {\n",
              "  font-size: 6pt;\n",
              "  background-color: #0a0a0a;\n",
              "  color: #f1f1f1;\n",
              "}\n",
              "#T_66acb_row3_col3 {\n",
              "  font-size: 6pt;\n",
              "  background-color: #050505;\n",
              "  color: #f1f1f1;\n",
              "}\n",
              "#T_66acb_row3_col5 {\n",
              "  font-size: 6pt;\n",
              "  background-color: #333333;\n",
              "  color: #f1f1f1;\n",
              "}\n",
              "#T_66acb_row3_col6 {\n",
              "  font-size: 6pt;\n",
              "  background-color: #e6e6e6;\n",
              "  color: #000000;\n",
              "}\n",
              "#T_66acb_row3_col7, #T_66acb_row3_col10 {\n",
              "  font-size: 6pt;\n",
              "  background-color: #fafafa;\n",
              "  color: #000000;\n",
              "}\n",
              "#T_66acb_row3_col8 {\n",
              "  font-size: 6pt;\n",
              "  background-color: #fbfbfb;\n",
              "  color: #000000;\n",
              "}\n",
              "#T_66acb_row3_col9 {\n",
              "  font-size: 6pt;\n",
              "  background-color: #fdfdfd;\n",
              "  color: #000000;\n",
              "}\n",
              "#T_66acb_row4_col4 {\n",
              "  font-size: 6pt;\n",
              "  background-color: #1b1b1b;\n",
              "  color: #f1f1f1;\n",
              "}\n",
              "#T_66acb_row4_col5 {\n",
              "  font-size: 6pt;\n",
              "  background-color: #e0e0e0;\n",
              "  color: #000000;\n",
              "}\n",
              "#T_66acb_row4_col11 {\n",
              "  font-size: 6pt;\n",
              "  background-color: #4e4e4e;\n",
              "  color: #f1f1f1;\n",
              "}\n",
              "#T_66acb_row4_col14 {\n",
              "  font-size: 6pt;\n",
              "  background-color: #767676;\n",
              "  color: #f1f1f1;\n",
              "}\n",
              "#T_66acb_row5_col1 {\n",
              "  font-size: 6pt;\n",
              "  background-color: #fcfcfc;\n",
              "  color: #000000;\n",
              "}\n",
              "#T_66acb_row5_col2, #T_66acb_row5_col3 {\n",
              "  font-size: 6pt;\n",
              "  background-color: #f6f6f6;\n",
              "  color: #000000;\n",
              "}\n",
              "#T_66acb_row5_col4, #T_66acb_row7_col7 {\n",
              "  font-size: 6pt;\n",
              "  background-color: #f8f8f8;\n",
              "  color: #000000;\n",
              "}\n",
              "#T_66acb_row5_col10, #T_66acb_row10_col7 {\n",
              "  font-size: 6pt;\n",
              "  background-color: #e8e8e8;\n",
              "  color: #000000;\n",
              "}\n",
              "#T_66acb_row5_col11 {\n",
              "  font-size: 6pt;\n",
              "  background-color: #222222;\n",
              "  color: #f1f1f1;\n",
              "}\n",
              "#T_66acb_row5_col13, #T_66acb_row6_col12 {\n",
              "  font-size: 6pt;\n",
              "  background-color: #090909;\n",
              "  color: #f1f1f1;\n",
              "}\n",
              "#T_66acb_row5_col14 {\n",
              "  font-size: 6pt;\n",
              "  background-color: #d0d0d0;\n",
              "  color: #000000;\n",
              "}\n",
              "#T_66acb_row6_col10, #T_66acb_row7_col11, #T_66acb_row9_col6 {\n",
              "  font-size: 6pt;\n",
              "  background-color: #060606;\n",
              "  color: #f1f1f1;\n",
              "}\n",
              "#T_66acb_row6_col13 {\n",
              "  font-size: 6pt;\n",
              "  background-color: #979797;\n",
              "  color: #f1f1f1;\n",
              "}\n",
              "#T_66acb_row7_col8 {\n",
              "  font-size: 6pt;\n",
              "  background-color: #b6b6b6;\n",
              "  color: #000000;\n",
              "}\n",
              "#T_66acb_row7_col9 {\n",
              "  font-size: 6pt;\n",
              "  background-color: #252525;\n",
              "  color: #f1f1f1;\n",
              "}\n",
              "#T_66acb_row7_col12 {\n",
              "  font-size: 6pt;\n",
              "  background-color: #999999;\n",
              "  color: #f1f1f1;\n",
              "}\n",
              "#T_66acb_row8_col5 {\n",
              "  font-size: 6pt;\n",
              "  background-color: #f9f9f9;\n",
              "  color: #000000;\n",
              "}\n",
              "#T_66acb_row8_col7 {\n",
              "  font-size: 6pt;\n",
              "  background-color: #101010;\n",
              "  color: #f1f1f1;\n",
              "}\n",
              "#T_66acb_row8_col9, #T_66acb_row9_col9 {\n",
              "  font-size: 6pt;\n",
              "  background-color: #020202;\n",
              "  color: #f1f1f1;\n",
              "}\n",
              "#T_66acb_row8_col11 {\n",
              "  font-size: 6pt;\n",
              "  background-color: #545454;\n",
              "  color: #f1f1f1;\n",
              "}\n",
              "#T_66acb_row8_col12 {\n",
              "  font-size: 6pt;\n",
              "  background-color: #f1f1f1;\n",
              "  color: #000000;\n",
              "}\n",
              "#T_66acb_row9_col5 {\n",
              "  font-size: 6pt;\n",
              "  background-color: #f7f7f7;\n",
              "  color: #000000;\n",
              "}\n",
              "#T_66acb_row9_col7 {\n",
              "  font-size: 6pt;\n",
              "  background-color: #030303;\n",
              "  color: #f1f1f1;\n",
              "}\n",
              "#T_66acb_row9_col12 {\n",
              "  font-size: 6pt;\n",
              "  background-color: #181818;\n",
              "  color: #f1f1f1;\n",
              "}\n",
              "#T_66acb_row9_col13 {\n",
              "  font-size: 6pt;\n",
              "  background-color: #303030;\n",
              "  color: #f1f1f1;\n",
              "}\n",
              "#T_66acb_row9_col14 {\n",
              "  font-size: 6pt;\n",
              "  background-color: #a9a9a9;\n",
              "  color: #f1f1f1;\n",
              "}\n",
              "#T_66acb_row9_col15 {\n",
              "  font-size: 6pt;\n",
              "  background-color: #fefefe;\n",
              "  color: #000000;\n",
              "}\n",
              "#T_66acb_row10_col8, #T_66acb_row10_col9 {\n",
              "  font-size: 6pt;\n",
              "  background-color: #bababa;\n",
              "  color: #000000;\n",
              "}\n",
              "#T_66acb_row10_col10 {\n",
              "  font-size: 6pt;\n",
              "  background-color: #393939;\n",
              "  color: #f1f1f1;\n",
              "}\n",
              "</style>\n",
              "<table id=\"T_66acb\" class=\"dataframe\">\n",
              "  <thead>\n",
              "    <tr>\n",
              "      <th class=\"blank level0\" >&nbsp;</th>\n",
              "      <th id=\"T_66acb_level0_col0\" class=\"col_heading level0 col0\" >0</th>\n",
              "      <th id=\"T_66acb_level0_col1\" class=\"col_heading level0 col1\" >1</th>\n",
              "      <th id=\"T_66acb_level0_col2\" class=\"col_heading level0 col2\" >2</th>\n",
              "      <th id=\"T_66acb_level0_col3\" class=\"col_heading level0 col3\" >3</th>\n",
              "      <th id=\"T_66acb_level0_col4\" class=\"col_heading level0 col4\" >4</th>\n",
              "      <th id=\"T_66acb_level0_col5\" class=\"col_heading level0 col5\" >5</th>\n",
              "      <th id=\"T_66acb_level0_col6\" class=\"col_heading level0 col6\" >6</th>\n",
              "      <th id=\"T_66acb_level0_col7\" class=\"col_heading level0 col7\" >7</th>\n",
              "      <th id=\"T_66acb_level0_col8\" class=\"col_heading level0 col8\" >8</th>\n",
              "      <th id=\"T_66acb_level0_col9\" class=\"col_heading level0 col9\" >9</th>\n",
              "      <th id=\"T_66acb_level0_col10\" class=\"col_heading level0 col10\" >10</th>\n",
              "      <th id=\"T_66acb_level0_col11\" class=\"col_heading level0 col11\" >11</th>\n",
              "      <th id=\"T_66acb_level0_col12\" class=\"col_heading level0 col12\" >12</th>\n",
              "      <th id=\"T_66acb_level0_col13\" class=\"col_heading level0 col13\" >13</th>\n",
              "      <th id=\"T_66acb_level0_col14\" class=\"col_heading level0 col14\" >14</th>\n",
              "      <th id=\"T_66acb_level0_col15\" class=\"col_heading level0 col15\" >15</th>\n",
              "      <th id=\"T_66acb_level0_col16\" class=\"col_heading level0 col16\" >16</th>\n",
              "      <th id=\"T_66acb_level0_col17\" class=\"col_heading level0 col17\" >17</th>\n",
              "    </tr>\n",
              "  </thead>\n",
              "  <tbody>\n",
              "    <tr>\n",
              "      <th id=\"T_66acb_level0_row0\" class=\"row_heading level0 row0\" >0</th>\n",
              "      <td id=\"T_66acb_row0_col0\" class=\"data row0 col0\" >0</td>\n",
              "      <td id=\"T_66acb_row0_col1\" class=\"data row0 col1\" >0</td>\n",
              "      <td id=\"T_66acb_row0_col2\" class=\"data row0 col2\" >0</td>\n",
              "      <td id=\"T_66acb_row0_col3\" class=\"data row0 col3\" >0</td>\n",
              "      <td id=\"T_66acb_row0_col4\" class=\"data row0 col4\" >0</td>\n",
              "      <td id=\"T_66acb_row0_col5\" class=\"data row0 col5\" >0</td>\n",
              "      <td id=\"T_66acb_row0_col6\" class=\"data row0 col6\" >0</td>\n",
              "      <td id=\"T_66acb_row0_col7\" class=\"data row0 col7\" >0</td>\n",
              "      <td id=\"T_66acb_row0_col8\" class=\"data row0 col8\" >0</td>\n",
              "      <td id=\"T_66acb_row0_col9\" class=\"data row0 col9\" >0</td>\n",
              "      <td id=\"T_66acb_row0_col10\" class=\"data row0 col10\" >0</td>\n",
              "      <td id=\"T_66acb_row0_col11\" class=\"data row0 col11\" >0</td>\n",
              "      <td id=\"T_66acb_row0_col12\" class=\"data row0 col12\" >0</td>\n",
              "      <td id=\"T_66acb_row0_col13\" class=\"data row0 col13\" >0</td>\n",
              "      <td id=\"T_66acb_row0_col14\" class=\"data row0 col14\" >0</td>\n",
              "      <td id=\"T_66acb_row0_col15\" class=\"data row0 col15\" >0</td>\n",
              "      <td id=\"T_66acb_row0_col16\" class=\"data row0 col16\" >0</td>\n",
              "      <td id=\"T_66acb_row0_col17\" class=\"data row0 col17\" >0</td>\n",
              "    </tr>\n",
              "    <tr>\n",
              "      <th id=\"T_66acb_level0_row1\" class=\"row_heading level0 row1\" >1</th>\n",
              "      <td id=\"T_66acb_row1_col0\" class=\"data row1 col0\" >0</td>\n",
              "      <td id=\"T_66acb_row1_col1\" class=\"data row1 col1\" >0</td>\n",
              "      <td id=\"T_66acb_row1_col2\" class=\"data row1 col2\" >0</td>\n",
              "      <td id=\"T_66acb_row1_col3\" class=\"data row1 col3\" >0</td>\n",
              "      <td id=\"T_66acb_row1_col4\" class=\"data row1 col4\" >0</td>\n",
              "      <td id=\"T_66acb_row1_col5\" class=\"data row1 col5\" >29</td>\n",
              "      <td id=\"T_66acb_row1_col6\" class=\"data row1 col6\" >150</td>\n",
              "      <td id=\"T_66acb_row1_col7\" class=\"data row1 col7\" >195</td>\n",
              "      <td id=\"T_66acb_row1_col8\" class=\"data row1 col8\" >254</td>\n",
              "      <td id=\"T_66acb_row1_col9\" class=\"data row1 col9\" >255</td>\n",
              "      <td id=\"T_66acb_row1_col10\" class=\"data row1 col10\" >254</td>\n",
              "      <td id=\"T_66acb_row1_col11\" class=\"data row1 col11\" >176</td>\n",
              "      <td id=\"T_66acb_row1_col12\" class=\"data row1 col12\" >193</td>\n",
              "      <td id=\"T_66acb_row1_col13\" class=\"data row1 col13\" >150</td>\n",
              "      <td id=\"T_66acb_row1_col14\" class=\"data row1 col14\" >96</td>\n",
              "      <td id=\"T_66acb_row1_col15\" class=\"data row1 col15\" >0</td>\n",
              "      <td id=\"T_66acb_row1_col16\" class=\"data row1 col16\" >0</td>\n",
              "      <td id=\"T_66acb_row1_col17\" class=\"data row1 col17\" >0</td>\n",
              "    </tr>\n",
              "    <tr>\n",
              "      <th id=\"T_66acb_level0_row2\" class=\"row_heading level0 row2\" >2</th>\n",
              "      <td id=\"T_66acb_row2_col0\" class=\"data row2 col0\" >0</td>\n",
              "      <td id=\"T_66acb_row2_col1\" class=\"data row2 col1\" >0</td>\n",
              "      <td id=\"T_66acb_row2_col2\" class=\"data row2 col2\" >0</td>\n",
              "      <td id=\"T_66acb_row2_col3\" class=\"data row2 col3\" >48</td>\n",
              "      <td id=\"T_66acb_row2_col4\" class=\"data row2 col4\" >166</td>\n",
              "      <td id=\"T_66acb_row2_col5\" class=\"data row2 col5\" >224</td>\n",
              "      <td id=\"T_66acb_row2_col6\" class=\"data row2 col6\" >253</td>\n",
              "      <td id=\"T_66acb_row2_col7\" class=\"data row2 col7\" >253</td>\n",
              "      <td id=\"T_66acb_row2_col8\" class=\"data row2 col8\" >234</td>\n",
              "      <td id=\"T_66acb_row2_col9\" class=\"data row2 col9\" >196</td>\n",
              "      <td id=\"T_66acb_row2_col10\" class=\"data row2 col10\" >253</td>\n",
              "      <td id=\"T_66acb_row2_col11\" class=\"data row2 col11\" >253</td>\n",
              "      <td id=\"T_66acb_row2_col12\" class=\"data row2 col12\" >253</td>\n",
              "      <td id=\"T_66acb_row2_col13\" class=\"data row2 col13\" >253</td>\n",
              "      <td id=\"T_66acb_row2_col14\" class=\"data row2 col14\" >233</td>\n",
              "      <td id=\"T_66acb_row2_col15\" class=\"data row2 col15\" >0</td>\n",
              "      <td id=\"T_66acb_row2_col16\" class=\"data row2 col16\" >0</td>\n",
              "      <td id=\"T_66acb_row2_col17\" class=\"data row2 col17\" >0</td>\n",
              "    </tr>\n",
              "    <tr>\n",
              "      <th id=\"T_66acb_level0_row3\" class=\"row_heading level0 row3\" >3</th>\n",
              "      <td id=\"T_66acb_row3_col0\" class=\"data row3 col0\" >0</td>\n",
              "      <td id=\"T_66acb_row3_col1\" class=\"data row3 col1\" >93</td>\n",
              "      <td id=\"T_66acb_row3_col2\" class=\"data row3 col2\" >244</td>\n",
              "      <td id=\"T_66acb_row3_col3\" class=\"data row3 col3\" >249</td>\n",
              "      <td id=\"T_66acb_row3_col4\" class=\"data row3 col4\" >253</td>\n",
              "      <td id=\"T_66acb_row3_col5\" class=\"data row3 col5\" >187</td>\n",
              "      <td id=\"T_66acb_row3_col6\" class=\"data row3 col6\" >46</td>\n",
              "      <td id=\"T_66acb_row3_col7\" class=\"data row3 col7\" >10</td>\n",
              "      <td id=\"T_66acb_row3_col8\" class=\"data row3 col8\" >8</td>\n",
              "      <td id=\"T_66acb_row3_col9\" class=\"data row3 col9\" >4</td>\n",
              "      <td id=\"T_66acb_row3_col10\" class=\"data row3 col10\" >10</td>\n",
              "      <td id=\"T_66acb_row3_col11\" class=\"data row3 col11\" >194</td>\n",
              "      <td id=\"T_66acb_row3_col12\" class=\"data row3 col12\" >253</td>\n",
              "      <td id=\"T_66acb_row3_col13\" class=\"data row3 col13\" >253</td>\n",
              "      <td id=\"T_66acb_row3_col14\" class=\"data row3 col14\" >233</td>\n",
              "      <td id=\"T_66acb_row3_col15\" class=\"data row3 col15\" >0</td>\n",
              "      <td id=\"T_66acb_row3_col16\" class=\"data row3 col16\" >0</td>\n",
              "      <td id=\"T_66acb_row3_col17\" class=\"data row3 col17\" >0</td>\n",
              "    </tr>\n",
              "    <tr>\n",
              "      <th id=\"T_66acb_level0_row4\" class=\"row_heading level0 row4\" >4</th>\n",
              "      <td id=\"T_66acb_row4_col0\" class=\"data row4 col0\" >0</td>\n",
              "      <td id=\"T_66acb_row4_col1\" class=\"data row4 col1\" >107</td>\n",
              "      <td id=\"T_66acb_row4_col2\" class=\"data row4 col2\" >253</td>\n",
              "      <td id=\"T_66acb_row4_col3\" class=\"data row4 col3\" >253</td>\n",
              "      <td id=\"T_66acb_row4_col4\" class=\"data row4 col4\" >230</td>\n",
              "      <td id=\"T_66acb_row4_col5\" class=\"data row4 col5\" >48</td>\n",
              "      <td id=\"T_66acb_row4_col6\" class=\"data row4 col6\" >0</td>\n",
              "      <td id=\"T_66acb_row4_col7\" class=\"data row4 col7\" >0</td>\n",
              "      <td id=\"T_66acb_row4_col8\" class=\"data row4 col8\" >0</td>\n",
              "      <td id=\"T_66acb_row4_col9\" class=\"data row4 col9\" >0</td>\n",
              "      <td id=\"T_66acb_row4_col10\" class=\"data row4 col10\" >0</td>\n",
              "      <td id=\"T_66acb_row4_col11\" class=\"data row4 col11\" >192</td>\n",
              "      <td id=\"T_66acb_row4_col12\" class=\"data row4 col12\" >253</td>\n",
              "      <td id=\"T_66acb_row4_col13\" class=\"data row4 col13\" >253</td>\n",
              "      <td id=\"T_66acb_row4_col14\" class=\"data row4 col14\" >156</td>\n",
              "      <td id=\"T_66acb_row4_col15\" class=\"data row4 col15\" >0</td>\n",
              "      <td id=\"T_66acb_row4_col16\" class=\"data row4 col16\" >0</td>\n",
              "      <td id=\"T_66acb_row4_col17\" class=\"data row4 col17\" >0</td>\n",
              "    </tr>\n",
              "    <tr>\n",
              "      <th id=\"T_66acb_level0_row5\" class=\"row_heading level0 row5\" >5</th>\n",
              "      <td id=\"T_66acb_row5_col0\" class=\"data row5 col0\" >0</td>\n",
              "      <td id=\"T_66acb_row5_col1\" class=\"data row5 col1\" >3</td>\n",
              "      <td id=\"T_66acb_row5_col2\" class=\"data row5 col2\" >20</td>\n",
              "      <td id=\"T_66acb_row5_col3\" class=\"data row5 col3\" >20</td>\n",
              "      <td id=\"T_66acb_row5_col4\" class=\"data row5 col4\" >15</td>\n",
              "      <td id=\"T_66acb_row5_col5\" class=\"data row5 col5\" >0</td>\n",
              "      <td id=\"T_66acb_row5_col6\" class=\"data row5 col6\" >0</td>\n",
              "      <td id=\"T_66acb_row5_col7\" class=\"data row5 col7\" >0</td>\n",
              "      <td id=\"T_66acb_row5_col8\" class=\"data row5 col8\" >0</td>\n",
              "      <td id=\"T_66acb_row5_col9\" class=\"data row5 col9\" >0</td>\n",
              "      <td id=\"T_66acb_row5_col10\" class=\"data row5 col10\" >43</td>\n",
              "      <td id=\"T_66acb_row5_col11\" class=\"data row5 col11\" >224</td>\n",
              "      <td id=\"T_66acb_row5_col12\" class=\"data row5 col12\" >253</td>\n",
              "      <td id=\"T_66acb_row5_col13\" class=\"data row5 col13\" >245</td>\n",
              "      <td id=\"T_66acb_row5_col14\" class=\"data row5 col14\" >74</td>\n",
              "      <td id=\"T_66acb_row5_col15\" class=\"data row5 col15\" >0</td>\n",
              "      <td id=\"T_66acb_row5_col16\" class=\"data row5 col16\" >0</td>\n",
              "      <td id=\"T_66acb_row5_col17\" class=\"data row5 col17\" >0</td>\n",
              "    </tr>\n",
              "    <tr>\n",
              "      <th id=\"T_66acb_level0_row6\" class=\"row_heading level0 row6\" >6</th>\n",
              "      <td id=\"T_66acb_row6_col0\" class=\"data row6 col0\" >0</td>\n",
              "      <td id=\"T_66acb_row6_col1\" class=\"data row6 col1\" >0</td>\n",
              "      <td id=\"T_66acb_row6_col2\" class=\"data row6 col2\" >0</td>\n",
              "      <td id=\"T_66acb_row6_col3\" class=\"data row6 col3\" >0</td>\n",
              "      <td id=\"T_66acb_row6_col4\" class=\"data row6 col4\" >0</td>\n",
              "      <td id=\"T_66acb_row6_col5\" class=\"data row6 col5\" >0</td>\n",
              "      <td id=\"T_66acb_row6_col6\" class=\"data row6 col6\" >0</td>\n",
              "      <td id=\"T_66acb_row6_col7\" class=\"data row6 col7\" >0</td>\n",
              "      <td id=\"T_66acb_row6_col8\" class=\"data row6 col8\" >0</td>\n",
              "      <td id=\"T_66acb_row6_col9\" class=\"data row6 col9\" >0</td>\n",
              "      <td id=\"T_66acb_row6_col10\" class=\"data row6 col10\" >249</td>\n",
              "      <td id=\"T_66acb_row6_col11\" class=\"data row6 col11\" >253</td>\n",
              "      <td id=\"T_66acb_row6_col12\" class=\"data row6 col12\" >245</td>\n",
              "      <td id=\"T_66acb_row6_col13\" class=\"data row6 col13\" >126</td>\n",
              "      <td id=\"T_66acb_row6_col14\" class=\"data row6 col14\" >0</td>\n",
              "      <td id=\"T_66acb_row6_col15\" class=\"data row6 col15\" >0</td>\n",
              "      <td id=\"T_66acb_row6_col16\" class=\"data row6 col16\" >0</td>\n",
              "      <td id=\"T_66acb_row6_col17\" class=\"data row6 col17\" >0</td>\n",
              "    </tr>\n",
              "    <tr>\n",
              "      <th id=\"T_66acb_level0_row7\" class=\"row_heading level0 row7\" >7</th>\n",
              "      <td id=\"T_66acb_row7_col0\" class=\"data row7 col0\" >0</td>\n",
              "      <td id=\"T_66acb_row7_col1\" class=\"data row7 col1\" >0</td>\n",
              "      <td id=\"T_66acb_row7_col2\" class=\"data row7 col2\" >0</td>\n",
              "      <td id=\"T_66acb_row7_col3\" class=\"data row7 col3\" >0</td>\n",
              "      <td id=\"T_66acb_row7_col4\" class=\"data row7 col4\" >0</td>\n",
              "      <td id=\"T_66acb_row7_col5\" class=\"data row7 col5\" >0</td>\n",
              "      <td id=\"T_66acb_row7_col6\" class=\"data row7 col6\" >0</td>\n",
              "      <td id=\"T_66acb_row7_col7\" class=\"data row7 col7\" >14</td>\n",
              "      <td id=\"T_66acb_row7_col8\" class=\"data row7 col8\" >101</td>\n",
              "      <td id=\"T_66acb_row7_col9\" class=\"data row7 col9\" >223</td>\n",
              "      <td id=\"T_66acb_row7_col10\" class=\"data row7 col10\" >253</td>\n",
              "      <td id=\"T_66acb_row7_col11\" class=\"data row7 col11\" >248</td>\n",
              "      <td id=\"T_66acb_row7_col12\" class=\"data row7 col12\" >124</td>\n",
              "      <td id=\"T_66acb_row7_col13\" class=\"data row7 col13\" >0</td>\n",
              "      <td id=\"T_66acb_row7_col14\" class=\"data row7 col14\" >0</td>\n",
              "      <td id=\"T_66acb_row7_col15\" class=\"data row7 col15\" >0</td>\n",
              "      <td id=\"T_66acb_row7_col16\" class=\"data row7 col16\" >0</td>\n",
              "      <td id=\"T_66acb_row7_col17\" class=\"data row7 col17\" >0</td>\n",
              "    </tr>\n",
              "    <tr>\n",
              "      <th id=\"T_66acb_level0_row8\" class=\"row_heading level0 row8\" >8</th>\n",
              "      <td id=\"T_66acb_row8_col0\" class=\"data row8 col0\" >0</td>\n",
              "      <td id=\"T_66acb_row8_col1\" class=\"data row8 col1\" >0</td>\n",
              "      <td id=\"T_66acb_row8_col2\" class=\"data row8 col2\" >0</td>\n",
              "      <td id=\"T_66acb_row8_col3\" class=\"data row8 col3\" >0</td>\n",
              "      <td id=\"T_66acb_row8_col4\" class=\"data row8 col4\" >0</td>\n",
              "      <td id=\"T_66acb_row8_col5\" class=\"data row8 col5\" >11</td>\n",
              "      <td id=\"T_66acb_row8_col6\" class=\"data row8 col6\" >166</td>\n",
              "      <td id=\"T_66acb_row8_col7\" class=\"data row8 col7\" >239</td>\n",
              "      <td id=\"T_66acb_row8_col8\" class=\"data row8 col8\" >253</td>\n",
              "      <td id=\"T_66acb_row8_col9\" class=\"data row8 col9\" >253</td>\n",
              "      <td id=\"T_66acb_row8_col10\" class=\"data row8 col10\" >253</td>\n",
              "      <td id=\"T_66acb_row8_col11\" class=\"data row8 col11\" >187</td>\n",
              "      <td id=\"T_66acb_row8_col12\" class=\"data row8 col12\" >30</td>\n",
              "      <td id=\"T_66acb_row8_col13\" class=\"data row8 col13\" >0</td>\n",
              "      <td id=\"T_66acb_row8_col14\" class=\"data row8 col14\" >0</td>\n",
              "      <td id=\"T_66acb_row8_col15\" class=\"data row8 col15\" >0</td>\n",
              "      <td id=\"T_66acb_row8_col16\" class=\"data row8 col16\" >0</td>\n",
              "      <td id=\"T_66acb_row8_col17\" class=\"data row8 col17\" >0</td>\n",
              "    </tr>\n",
              "    <tr>\n",
              "      <th id=\"T_66acb_level0_row9\" class=\"row_heading level0 row9\" >9</th>\n",
              "      <td id=\"T_66acb_row9_col0\" class=\"data row9 col0\" >0</td>\n",
              "      <td id=\"T_66acb_row9_col1\" class=\"data row9 col1\" >0</td>\n",
              "      <td id=\"T_66acb_row9_col2\" class=\"data row9 col2\" >0</td>\n",
              "      <td id=\"T_66acb_row9_col3\" class=\"data row9 col3\" >0</td>\n",
              "      <td id=\"T_66acb_row9_col4\" class=\"data row9 col4\" >0</td>\n",
              "      <td id=\"T_66acb_row9_col5\" class=\"data row9 col5\" >16</td>\n",
              "      <td id=\"T_66acb_row9_col6\" class=\"data row9 col6\" >248</td>\n",
              "      <td id=\"T_66acb_row9_col7\" class=\"data row9 col7\" >250</td>\n",
              "      <td id=\"T_66acb_row9_col8\" class=\"data row9 col8\" >253</td>\n",
              "      <td id=\"T_66acb_row9_col9\" class=\"data row9 col9\" >253</td>\n",
              "      <td id=\"T_66acb_row9_col10\" class=\"data row9 col10\" >253</td>\n",
              "      <td id=\"T_66acb_row9_col11\" class=\"data row9 col11\" >253</td>\n",
              "      <td id=\"T_66acb_row9_col12\" class=\"data row9 col12\" >232</td>\n",
              "      <td id=\"T_66acb_row9_col13\" class=\"data row9 col13\" >213</td>\n",
              "      <td id=\"T_66acb_row9_col14\" class=\"data row9 col14\" >111</td>\n",
              "      <td id=\"T_66acb_row9_col15\" class=\"data row9 col15\" >2</td>\n",
              "      <td id=\"T_66acb_row9_col16\" class=\"data row9 col16\" >0</td>\n",
              "      <td id=\"T_66acb_row9_col17\" class=\"data row9 col17\" >0</td>\n",
              "    </tr>\n",
              "    <tr>\n",
              "      <th id=\"T_66acb_level0_row10\" class=\"row_heading level0 row10\" >10</th>\n",
              "      <td id=\"T_66acb_row10_col0\" class=\"data row10 col0\" >0</td>\n",
              "      <td id=\"T_66acb_row10_col1\" class=\"data row10 col1\" >0</td>\n",
              "      <td id=\"T_66acb_row10_col2\" class=\"data row10 col2\" >0</td>\n",
              "      <td id=\"T_66acb_row10_col3\" class=\"data row10 col3\" >0</td>\n",
              "      <td id=\"T_66acb_row10_col4\" class=\"data row10 col4\" >0</td>\n",
              "      <td id=\"T_66acb_row10_col5\" class=\"data row10 col5\" >0</td>\n",
              "      <td id=\"T_66acb_row10_col6\" class=\"data row10 col6\" >0</td>\n",
              "      <td id=\"T_66acb_row10_col7\" class=\"data row10 col7\" >43</td>\n",
              "      <td id=\"T_66acb_row10_col8\" class=\"data row10 col8\" >98</td>\n",
              "      <td id=\"T_66acb_row10_col9\" class=\"data row10 col9\" >98</td>\n",
              "      <td id=\"T_66acb_row10_col10\" class=\"data row10 col10\" >208</td>\n",
              "      <td id=\"T_66acb_row10_col11\" class=\"data row10 col11\" >253</td>\n",
              "      <td id=\"T_66acb_row10_col12\" class=\"data row10 col12\" >253</td>\n",
              "      <td id=\"T_66acb_row10_col13\" class=\"data row10 col13\" >253</td>\n",
              "      <td id=\"T_66acb_row10_col14\" class=\"data row10 col14\" >253</td>\n",
              "      <td id=\"T_66acb_row10_col15\" class=\"data row10 col15\" >187</td>\n",
              "      <td id=\"T_66acb_row10_col16\" class=\"data row10 col16\" >22</td>\n",
              "      <td id=\"T_66acb_row10_col17\" class=\"data row10 col17\" >0</td>\n",
              "    </tr>\n",
              "  </tbody>\n",
              "</table>\n"
            ]
          },
          "metadata": {},
          "execution_count": 10
        }
      ]
    },
    {
      "cell_type": "markdown",
      "source": [
        "Represent all the images as tensors"
      ],
      "metadata": {
        "id": "wF1Ko929kb0O"
      }
    },
    {
      "cell_type": "code",
      "source": [
        "three_tensor = [tensor(Image.open(o)) for o in threes]\n",
        "seven_tensor = [tensor(Image.open(o)) for o in sevenths]\n",
        "len(three_tensor), len(seven_tensor)"
      ],
      "metadata": {
        "colab": {
          "base_uri": "https://localhost:8080/"
        },
        "id": "Yf4lC39lph-f",
        "outputId": "89e956af-5ec3-4ea4-be12-df7889b2516b"
      },
      "execution_count": null,
      "outputs": [
        {
          "output_type": "execute_result",
          "data": {
            "text/plain": [
              "(6131, 6265)"
            ]
          },
          "metadata": {},
          "execution_count": 11
        }
      ]
    },
    {
      "cell_type": "code",
      "source": [
        "show_image(three_tensor[1])"
      ],
      "metadata": {
        "colab": {
          "base_uri": "https://localhost:8080/",
          "height": 131
        },
        "id": "v8bB7dGcqBMg",
        "outputId": "b988e08a-b326-4782-8784-1f4f6c1478ab"
      },
      "execution_count": null,
      "outputs": [
        {
          "output_type": "execute_result",
          "data": {
            "text/plain": [
              "<Axes: >"
            ]
          },
          "metadata": {},
          "execution_count": 12
        },
        {
          "output_type": "display_data",
          "data": {
            "text/plain": [
              "<Figure size 100x100 with 1 Axes>"
            ],
            "image/png": "[encoded data removed]"
          },
          "metadata": {}
        }
      ]
    },
    {
      "cell_type": "markdown",
      "source": [
        "Here we created a tensor, that has 6131 samples with the size of 28 pixels by 28 pixels each. We can imagine the tensor as cube"
      ],
      "metadata": {
        "id": "F28KNJ-kl3h-"
      }
    },
    {
      "cell_type": "code",
      "source": [
        "stacked_sevens = torch.stack(seven_tensor).float() / 255\n",
        "stacked_threes = torch.stack(three_tensor).float() / 255\n",
        "stacked_threes.shape"
      ],
      "metadata": {
        "colab": {
          "base_uri": "https://localhost:8080/"
        },
        "id": "WpEP4-EX8Qw_",
        "outputId": "78d8bb10-f797-4de7-bb9d-4e84ca0d6e4f"
      },
      "execution_count": null,
      "outputs": [
        {
          "output_type": "execute_result",
          "data": {
            "text/plain": [
              "torch.Size([6131, 28, 28])"
            ]
          },
          "metadata": {},
          "execution_count": 13
        }
      ]
    },
    {
      "cell_type": "markdown",
      "source": [
        "The length of a tensor's shape is its rank:"
      ],
      "metadata": {
        "id": "erG0iEqGCEbm"
      }
    },
    {
      "cell_type": "code",
      "source": [
        "len(stacked_threes.shape)"
      ],
      "metadata": {
        "colab": {
          "base_uri": "https://localhost:8080/"
        },
        "id": "7gcTQMAdCIMF",
        "outputId": "a989806c-4e7e-44af-c19e-f5183c715928"
      },
      "execution_count": null,
      "outputs": [
        {
          "output_type": "execute_result",
          "data": {
            "text/plain": [
              "3"
            ]
          },
          "metadata": {},
          "execution_count": 14
        }
      ]
    },
    {
      "cell_type": "markdown",
      "source": [
        "Here is how \"ideal\" three looks like"
      ],
      "metadata": {
        "id": "VfYD_CcVmKwY"
      }
    },
    {
      "cell_type": "code",
      "source": [
        "mean3 = stacked_threes.mean(0)\n",
        "show_image(mean3)"
      ],
      "metadata": {
        "colab": {
          "base_uri": "https://localhost:8080/",
          "height": 131
        },
        "id": "T4JdPRbWDHv2",
        "outputId": "9bf9f081-7658-4aae-e363-0316cad2f8a3"
      },
      "execution_count": null,
      "outputs": [
        {
          "output_type": "execute_result",
          "data": {
            "text/plain": [
              "<Axes: >"
            ]
          },
          "metadata": {},
          "execution_count": 15
        },
        {
          "output_type": "display_data",
          "data": {
            "text/plain": [
              "<Figure size 100x100 with 1 Axes>"
            ],
            "image/png": "[encoded data removed]"
          },
          "metadata": {}
        }
      ]
    },
    {
      "cell_type": "code",
      "source": [
        "mean7 = stacked_sevens.mean(0)\n",
        "show_image(mean7)"
      ],
      "metadata": {
        "colab": {
          "base_uri": "https://localhost:8080/",
          "height": 131
        },
        "id": "nm_jUjHrDNrv",
        "outputId": "ead6b6cd-9b78-42b6-9b2a-4c10de0c3602"
      },
      "execution_count": null,
      "outputs": [
        {
          "output_type": "execute_result",
          "data": {
            "text/plain": [
              "<Axes: >"
            ]
          },
          "metadata": {},
          "execution_count": 16
        },
        {
          "output_type": "display_data",
          "data": {
            "text/plain": [
              "<Figure size 100x100 with 1 Axes>"
            ],
            "image/png": "[encoded data removed]"
          },
          "metadata": {}
        }
      ]
    },
    {
      "cell_type": "markdown",
      "source": [
        "Lets take the first image and calculate the distance of pixels between it and \"ideal\" number 3."
      ],
      "metadata": {
        "id": "BS9cJHJ2lpaX"
      }
    },
    {
      "cell_type": "code",
      "source": [
        "a_3 = stacked_threes[0]\n",
        "show_image(a_3)"
      ],
      "metadata": {
        "colab": {
          "base_uri": "https://localhost:8080/",
          "height": 131
        },
        "id": "fMd8111TDZw9",
        "outputId": "ded35b29-3745-4e09-ea9c-c5abf606a1b8"
      },
      "execution_count": null,
      "outputs": [
        {
          "output_type": "execute_result",
          "data": {
            "text/plain": [
              "<Axes: >"
            ]
          },
          "metadata": {},
          "execution_count": 17
        },
        {
          "output_type": "display_data",
          "data": {
            "text/plain": [
              "<Figure size 100x100 with 1 Axes>"
            ],
            "image/png": "[encoded data removed]"
          },
          "metadata": {}
        }
      ]
    },
    {
      "cell_type": "markdown",
      "source": [
        "To calculate the distance between our ideal number 3 and arbitrary number we may follow two ways:\n",
        "1. Take the mean of the _absolute value_ of differences (absolute value is the function that replaces negative values with positive values). This is called the __mean absolute difference__ or __L1 norm__.\n",
        "2. Take the mean of the _square_ of differences (which makes everything positive) and then take the _square root_ (which undoes the squaring). This is called the __root mean squarred error (RMSE)__ or __L2 norm__."
      ],
      "metadata": {
        "id": "j_Adp2vzEOZd"
      }
    },
    {
      "cell_type": "code",
      "source": [
        "dist_3_abs = (a_3 - mean3).abs().mean()\n",
        "dist_3_sqr = ((a_3 - mean3)**2).sqrt().mean()\n",
        "dist_3_abs, dist_3_sqr"
      ],
      "metadata": {
        "colab": {
          "base_uri": "https://localhost:8080/"
        },
        "id": "G0Ig1y0GSjCN",
        "outputId": "c93eda41-2be9-4cc9-9739-908ba95c76d4"
      },
      "execution_count": null,
      "outputs": [
        {
          "output_type": "execute_result",
          "data": {
            "text/plain": [
              "(tensor(0.1074), tensor(0.1074))"
            ]
          },
          "metadata": {},
          "execution_count": 18
        }
      ]
    },
    {
      "cell_type": "code",
      "source": [
        "dist_7_abs = (a_3 - mean7).abs().mean()\n",
        "dist_7_sqr = ((a_3 - mean7)**2).sqrt().mean()\n",
        "dist_7_abs, dist_7_sqr"
      ],
      "metadata": {
        "colab": {
          "base_uri": "https://localhost:8080/"
        },
        "id": "RHrdj3eYTM5z",
        "outputId": "0d33cdd5-cf69-42d2-cdc7-668b5d2a8893"
      },
      "execution_count": null,
      "outputs": [
        {
          "output_type": "execute_result",
          "data": {
            "text/plain": [
              "(tensor(0.1441), tensor(0.1441))"
            ]
          },
          "metadata": {},
          "execution_count": 19
        }
      ]
    },
    {
      "cell_type": "markdown",
      "source": [
        "Intuitively the difference between _L1 norm_ and _mean squared error (MSE)_ is that the latter will penalize bigger mistakes more heavily that the former (and be more lenient with small mistakes)"
      ],
      "metadata": {
        "id": "NJPwra5SUFGV"
      }
    },
    {
      "cell_type": "markdown",
      "source": [
        "Let us get a valid set of our 3s and 7s from 'valid' folder"
      ],
      "metadata": {
        "id": "ZdethEVZpwF9"
      }
    },
    {
      "cell_type": "code",
      "source": [
        "valid_3_tens = torch.stack([tensor(Image.open(o))\n",
        "                            for o in (path/'valid'/'3').ls()])\n",
        "valid_3_tens = valid_3_tens.float() / 255\n",
        "\n",
        "valid_7_tens = torch.stack([tensor(Image.open(o)) for o in (path/'valid'/'7').ls()])\n",
        "valid_7_tens = valid_7_tens.float() / 255\n",
        "\n",
        "valid_3_tens.shape, valid_7_tens.shape"
      ],
      "metadata": {
        "colab": {
          "base_uri": "https://localhost:8080/"
        },
        "id": "vMnTFrESUe1e",
        "outputId": "520d47ea-f8fe-404c-f952-fe58e11f1c74"
      },
      "execution_count": null,
      "outputs": [
        {
          "output_type": "execute_result",
          "data": {
            "text/plain": [
              "(torch.Size([1010, 28, 28]), torch.Size([1028, 28, 28]))"
            ]
          },
          "metadata": {},
          "execution_count": 27
        }
      ]
    },
    {
      "cell_type": "code",
      "source": [
        "def mnist_distance(a, b): return (a - b).abs().mean((-1, -2))\n",
        "mnist_distance(a_3, mean3)"
      ],
      "metadata": {
        "colab": {
          "base_uri": "https://localhost:8080/"
        },
        "id": "MbH4bvfdr8S8",
        "outputId": "8d0c8b54-f404-4b41-8065-f0263af384b9"
      },
      "execution_count": null,
      "outputs": [
        {
          "output_type": "execute_result",
          "data": {
            "text/plain": [
              "tensor(0.1074)"
            ]
          },
          "metadata": {},
          "execution_count": 28
        }
      ]
    },
    {
      "cell_type": "markdown",
      "source": [
        "Let us calculate mean absolute error for validation set"
      ],
      "metadata": {
        "id": "Ps3RMo1wsaF9"
      }
    },
    {
      "cell_type": "code",
      "source": [
        "valid_3_dist = mnist_distance(valid_3_tens, mean3)\n",
        "valid_3_dist, valid_3_dist.shape"
      ],
      "metadata": {
        "colab": {
          "base_uri": "https://localhost:8080/"
        },
        "id": "eGB461qdsJEN",
        "outputId": "08078c33-8730-4677-fdb6-f622d83f724b"
      },
      "execution_count": null,
      "outputs": [
        {
          "output_type": "execute_result",
          "data": {
            "text/plain": [
              "(tensor([0.1320, 0.1578, 0.1642,  ..., 0.1156, 0.1242, 0.1061]),\n",
              " torch.Size([1010]))"
            ]
          },
          "metadata": {},
          "execution_count": 29
        }
      ]
    },
    {
      "cell_type": "code",
      "source": [
        "def is_3(x): return mnist_distance(x, mean3) < mnist_distance(x, mean7)"
      ],
      "metadata": {
        "id": "PObUUNg6VeNS"
      },
      "execution_count": null,
      "outputs": []
    },
    {
      "cell_type": "markdown",
      "source": [
        "To see the prediction on all 3s"
      ],
      "metadata": {
        "id": "miara-QtWAL1"
      }
    },
    {
      "cell_type": "code",
      "source": [
        "is_3(valid_3_tens)"
      ],
      "metadata": {
        "id": "3Lwa30muVwER"
      },
      "execution_count": null,
      "outputs": []
    },
    {
      "cell_type": "markdown",
      "source": [
        "Let us calculate the accuracy"
      ],
      "metadata": {
        "id": "GeNkVUu3WiC0"
      }
    },
    {
      "cell_type": "code",
      "source": [
        "accuracy_3s = is_3(valid_3_tens).float().mean()\n",
        "accuracy_7s = (1 - is_3(valid_7_tens).float()).mean()\n",
        "accuracy_3s, accuracy_7s, (accuracy_3s + accuracy_7s) / 2"
      ],
      "metadata": {
        "id": "D8kv92CjWD3w"
      },
      "execution_count": null,
      "outputs": []
    },
    {
      "cell_type": "markdown",
      "source": [
        "Let's concatenate the images into a 2-rank tensor. To do it we will use __view__. -1 means make the axis as big as necessary to fill all the data"
      ],
      "metadata": {
        "id": "xXu6TO2Uoudx"
      }
    },
    {
      "cell_type": "code",
      "source": [
        "train_x = torch.cat([stacked_threes, stacked_sevens]).view(-1, 28*28)"
      ],
      "metadata": {
        "id": "d-YdQx_to03g"
      },
      "execution_count": null,
      "outputs": []
    },
    {
      "cell_type": "markdown",
      "source": [
        "We need a lable for each image. We will use 1 for 3s and 0 for 7s"
      ],
      "metadata": {
        "id": "nNC9gP2jpQ9x"
      }
    },
    {
      "cell_type": "code",
      "source": [
        "train_y = tensor([1] * len(threes), [0] * len(sevens)).unsqueeze(1)\n",
        "train_x.shape, train_y.shape"
      ],
      "metadata": {
        "id": "EfZW8yKLpWXA"
      },
      "execution_count": null,
      "outputs": []
    },
    {
      "cell_type": "code",
      "source": [
        "dset = list(zip(train_x,train_y))\n",
        "x,y = dset[0]\n",
        "x.shape,y"
      ],
      "metadata": {
        "id": "9MEJ2axnp9Fn"
      },
      "execution_count": null,
      "outputs": []
    },
    {
      "cell_type": "code",
      "source": [
        "valid_x = torch.cat([valid_3_tens, valid_7_tens]).view(-1, 28*28)\n",
        "valid_y = tensor([1]*len(valid_3_tens) + [0]*len(valid_7_tens)).unsqueeze(1)\n",
        "valid_dset = list(zip(valid_x,valid_y))"
      ],
      "metadata": {
        "id": "hDpQofiLp9m3"
      },
      "execution_count": null,
      "outputs": []
    },
    {
      "cell_type": "markdown",
      "source": [
        "Now we need an initially random weight for every pixel"
      ],
      "metadata": {
        "id": "UgiotXTvqF3h"
      }
    },
    {
      "cell_type": "code",
      "source": [
        "def init_params(size, std=1.0): return (torch.randn(size) * std).requires_grad_()"
      ],
      "metadata": {
        "id": "i5xTie6BqMzY"
      },
      "execution_count": null,
      "outputs": []
    },
    {
      "cell_type": "code",
      "source": [
        "weights = init_params((28*28,1))"
      ],
      "metadata": {
        "id": "IKOuXcBZqaOS"
      },
      "execution_count": null,
      "outputs": []
    },
    {
      "cell_type": "markdown",
      "source": [
        "The function weights*pixels won't be flexible enough—it is always equal to 0 when the pixels are equal to 0 (i.e., its intercept is 0). You might remember from high school math that the formula for a line is y=w*x+b; we still need the b. We'll initialize it to a random number too:"
      ],
      "metadata": {
        "id": "XXI3d_SSqndB"
      }
    },
    {
      "cell_type": "code",
      "source": [
        "bias = init_params(1)"
      ],
      "metadata": {
        "id": "RkzIoE4Fqo_r"
      },
      "execution_count": null,
      "outputs": []
    },
    {
      "cell_type": "markdown",
      "source": [
        "To calculate the prediction we will use matrices multiplication"
      ],
      "metadata": {
        "id": "LuGdNkw5rL4j"
      }
    },
    {
      "cell_type": "code",
      "source": [
        "def linear1(xb): return xb@weights + bias\n",
        "preds = linear1(train_x1)\n",
        "preds"
      ],
      "metadata": {
        "id": "XSdsCShZrT_g"
      },
      "execution_count": null,
      "outputs": []
    },
    {
      "cell_type": "markdown",
      "source": [
        "Let's check our accuracy"
      ],
      "metadata": {
        "id": "lzNjZoEnroFo"
      }
    },
    {
      "cell_type": "code",
      "source": [
        "dl = DataLoader(dset, batch_size=256)\n",
        "xb,yb = first(dl)\n",
        "xb.shape,yb.shape"
      ],
      "metadata": {
        "id": "7XjUDW2SryZY"
      },
      "execution_count": null,
      "outputs": []
    },
    {
      "cell_type": "code",
      "source": [
        "valid_dl = DataLoader(valid_dset, batch_size=256)"
      ],
      "metadata": {
        "id": "C3N1Cr5YsAmD"
      },
      "execution_count": null,
      "outputs": []
    },
    {
      "cell_type": "code",
      "source": [
        "batch = train_x[:4]\n",
        "batch.shape"
      ],
      "metadata": {
        "id": "w6tAONQXsNWI"
      },
      "execution_count": null,
      "outputs": []
    },
    {
      "cell_type": "code",
      "source": [
        "preds = linear1(batch)\n",
        "preds"
      ],
      "metadata": {
        "id": "dD3A_s7WsOpE"
      },
      "execution_count": null,
      "outputs": []
    },
    {
      "cell_type": "code",
      "source": [
        "loss = mnist_loss(preds, train_y[:4])\n",
        "loss"
      ],
      "metadata": {
        "id": "V9pCmxd0vm3p"
      },
      "execution_count": null,
      "outputs": []
    },
    {
      "cell_type": "code",
      "source": [
        "loss.backward()\n",
        "weights.grad.shape,weights.grad.mean(),bias.grad"
      ],
      "metadata": {
        "id": "rM3jJPDQvq9p"
      },
      "execution_count": null,
      "outputs": []
    },
    {
      "cell_type": "code",
      "source": [
        "def calc_grad(xb, yb, model):\n",
        "    preds = model(xb)\n",
        "    loss = mnist_loss(preds, yb)\n",
        "    loss.backward()"
      ],
      "metadata": {
        "id": "WraTjk42vwt3"
      },
      "execution_count": null,
      "outputs": []
    },
    {
      "cell_type": "code",
      "source": [
        "calc_grad(batch, train_y[:4], linear1)\n",
        "weights.grad.mean(),bias.grad"
      ],
      "metadata": {
        "id": "Sj0XURGpv0av"
      },
      "execution_count": null,
      "outputs": []
    },
    {
      "cell_type": "code",
      "source": [
        "weights.grad.zero_()\n",
        "bias.grad.zero_();"
      ],
      "metadata": {
        "id": "YlkrJXDJwAbn"
      },
      "execution_count": null,
      "outputs": []
    },
    {
      "cell_type": "code",
      "source": [
        "def train_epoch(model, lr, params):\n",
        "    for xb,yb in dl:\n",
        "        calc_grad(xb, yb, model)\n",
        "        for p in params:\n",
        "            p.data -= p.grad*lr\n",
        "            p.grad.zero_()"
      ],
      "metadata": {
        "id": "-YB8vDN0wK1u"
      },
      "execution_count": null,
      "outputs": []
    },
    {
      "cell_type": "code",
      "source": [
        "def batch_accuracy(xb, yb):\n",
        "    preds = xb.sigmoid()\n",
        "    correct = (preds>0.5) == yb\n",
        "    return correct.float().mean()"
      ],
      "metadata": {
        "id": "DryUaORSwTtP"
      },
      "execution_count": null,
      "outputs": []
    },
    {
      "cell_type": "code",
      "source": [
        "def validate_epoch(model):\n",
        "    accs = [batch_accuracy(model(xb), yb) for xb,yb in valid_dl]\n",
        "    return round(torch.stack(accs).mean().item(), 4)"
      ],
      "metadata": {
        "id": "M1CA-Uj4wZBY"
      },
      "execution_count": null,
      "outputs": []
    },
    {
      "cell_type": "code",
      "source": [
        "validate_epoch(linear1)"
      ],
      "metadata": {
        "id": "MXxRStr9waPl"
      },
      "execution_count": null,
      "outputs": []
    },
    {
      "cell_type": "code",
      "source": [
        "lr = 1.\n",
        "params = weights,bias\n",
        "train_epoch(linear1, lr, params)\n",
        "validate_epoch(linear1)"
      ],
      "metadata": {
        "id": "CeP0zYMLwgNg"
      },
      "execution_count": null,
      "outputs": []
    },
    {
      "cell_type": "code",
      "source": [
        "for i in range(20):\n",
        "    train_epoch(linear1, lr, params)\n",
        "    print(validate_epoch(linear1), end=' ')"
      ],
      "metadata": {
        "id": "smO6NTMrwhTV"
      },
      "execution_count": null,
      "outputs": []
    }
  ]
}